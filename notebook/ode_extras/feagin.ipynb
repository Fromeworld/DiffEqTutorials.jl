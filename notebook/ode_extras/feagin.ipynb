{
 "cells": [
  {
   "cell_type": "markdown",
   "metadata": {},
   "source": [
    "DifferentialEquations.jl includes Feagin's explicit Runge-Kutta methods of orders 10/8, 12/10, and 14/12. These methods have such high order that it's pretty much required that one uses numbers with more precision than Float64. As a prerequisite reference on how to use arbitrary number systems (including higher precision) in the numerical solvers, please see the Solving Equations in With Chosen Number Types notebook.\n",
    "\n",
    "## Investigation of the Method's Error\n",
    "\n",
    "We can use Feagin's order 16 method as follows. Let's use a two-dimensional linear ODE. Like in the Solving Equations in With Chosen Number Types notebook, we change the initial condition to BigFloats to tell the solver to use BigFloat types.\n",
    "# Feagin&#39;s Order 10, 12, and 14 Methods\n",
    "### Chris Rackauckas"
   ]
  },
  {
   "cell_type": "code",
   "execution_count": 1,
   "metadata": {
    "ExecuteTime": {
     "end_time": "2019-03-15T00:56:28.797000+01:00",
     "start_time": "2019-03-14T23:56:12.481Z"
    }
   },
   "outputs": [],
   "source": [
    "using DifferentialEquations\n",
    "const linear_bigα = big(1.01)\n",
    "f(u,p,t) = (linear_bigα*u)\n",
    "\n",
    "# Add analytical solution so that errors are checked\n",
    "f_analytic(u0,p,t) = u0*exp(linear_bigα*t)\n",
    "ff = ODEFunction(f,analytic=f_analytic)\n",
    "prob = ODEProblem(ff,big(0.5),(0.0,1.0))\n",
    "sol = solve(prob,Feagin14(),dt=1//16,adaptive=false);"
   ]
  },
  {
   "cell_type": "code",
   "execution_count": 2,
   "metadata": {
    "ExecuteTime": {
     "end_time": "2019-03-15T00:56:30.087000+01:00",
     "start_time": "2019-03-14T23:56:17.940Z"
    }
   },
   "outputs": [
    {
     "name": "stdout",
     "output_type": "stream",
     "text": [
      "Dict(:l∞=>2.19751e-23,:final=>2.19751e-23,:l2=>1.0615e-23)\n"
     ]
    }
   ],
   "source": [
    "println(sol.errors)"
   ]
  },
  {
   "cell_type": "markdown",
   "metadata": {},
   "source": [
    "Compare that to machine $\\epsilon$ for Float64:"
   ]
  },
  {
   "cell_type": "code",
   "execution_count": 3,
   "metadata": {
    "ExecuteTime": {
     "end_time": "2019-03-15T00:56:30.713000+01:00",
     "start_time": "2019-03-14T23:56:20.802Z"
    }
   },
   "outputs": [
    {
     "data": {
      "text/plain": [
       "2.220446049250313e-16"
      ]
     },
     "execution_count": 3,
     "metadata": {},
     "output_type": "execute_result"
    }
   ],
   "source": [
    "eps(Float64)"
   ]
  },
  {
   "cell_type": "markdown",
   "metadata": {},
   "source": [
    "The error for Feagin's method when the stepsize is 1/16 is 8 orders of magnitude below machine $\\epsilon$! However, that is dependent on the stepsize. If we instead use adaptive timestepping with the default tolerances, we get"
   ]
  },
  {
   "cell_type": "code",
   "execution_count": 4,
   "metadata": {
    "ExecuteTime": {
     "end_time": "2019-03-15T00:56:32.602000+01:00",
     "start_time": "2019-03-14T23:56:31.978Z"
    }
   },
   "outputs": [
    {
     "name": "stdout",
     "output_type": "stream",
     "text": [
      "Dict(:l∞=>1.54574e-09,:final=>1.54574e-09,:l2=>8.92507e-10)\n",
      "The length was 3"
     ]
    }
   ],
   "source": [
    "sol =solve(prob,Feagin14());\n",
    "println(sol.errors); print(\"The length was $(length(sol))\")"
   ]
  },
  {
   "cell_type": "markdown",
   "metadata": {},
   "source": [
    "Notice that when the stepsize is much higher, the error goes up quickly as well. These super high order methods are best when used to gain really accurate approximations (using still modest timesteps). Some examples of where such precision is necessary is astrodynamics where the many-body problem is highly chaotic and thus sensitive to small errors.\n",
    "\n",
    "## Convergence Test\n",
    "\n",
    "The Order 14 method is awesome, but we need to make sure it's really that awesome. The following convergence test is used in the package tests in order to make sure the implementation is correct. Note that all methods have such tests in place."
   ]
  },
  {
   "cell_type": "code",
   "execution_count": 7,
   "metadata": {
    "ExecuteTime": {
     "end_time": "2019-03-15T00:57:58.923000+01:00",
     "start_time": "2019-03-14T23:57:49.045Z"
    }
   },
   "outputs": [
    {
     "name": "stderr",
     "output_type": "stream",
     "text": [
      "┌ Info: Precompiling DiffEqDevTools [f3b72e0c-5b89-59e1-b016-84e28bfd966d]\n",
      "└ @ Base loading.jl:1186\n"
     ]
    },
    {
     "data": {
      "text/plain": [
       "ConvergenceSimulation{ODESolution{BigFloat,1,Array{BigFloat,1},Array{BigFloat,1},Dict{Symbol,BigFloat},Array{Float64,1},Array{Array{BigFloat,1},1},ODEProblem{BigFloat,Tuple{Float64,Float64},false,Nothing,ODEFunction{false,typeof(f),LinearAlgebra.UniformScaling{Bool},typeof(f_analytic),Nothing,Nothing,Nothing,Nothing,Nothing,Nothing,Nothing},Nothing,DiffEqBase.StandardODEProblem},Feagin14,OrdinaryDiffEq.InterpolationData{ODEFunction{false,typeof(f),LinearAlgebra.UniformScaling{Bool},typeof(f_analytic),Nothing,Nothing,Nothing,Nothing,Nothing,Nothing,Nothing},Array{BigFloat,1},Array{Float64,1},Array{Array{BigFloat,1},1},OrdinaryDiffEq.Feagin14ConstantCache{BigFloat,Float64}}}}(ODESolution{BigFloat,1,Array{BigFloat,1},Array{BigFloat,1},Dict{Symbol,BigFloat},Array{Float64,1},Array{Array{BigFloat,1},1},ODEProblem{BigFloat,Tuple{Float64,Float64},false,Nothing,ODEFunction{false,typeof(f),LinearAlgebra.UniformScaling{Bool},typeof(f_analytic),Nothing,Nothing,Nothing,Nothing,Nothing,Nothing,Nothing},Nothing,DiffEqBase.StandardODEProblem},Feagin14,OrdinaryDiffEq.InterpolationData{ODEFunction{false,typeof(f),LinearAlgebra.UniformScaling{Bool},typeof(f_analytic),Nothing,Nothing,Nothing,Nothing,Nothing,Nothing,Nothing},Array{BigFloat,1},Array{Float64,1},Array{Array{BigFloat,1},1},OrdinaryDiffEq.Feagin14ConstantCache{BigFloat,Float64}}}[retcode: Success\n",
       "Interpolation: 3rd order Hermite\n",
       "t: [0.0, 0.000976563, 0.00195313, 0.00292969, 0.00390625, 0.00488281, 0.00585938, 0.00683594, 0.0078125, 0.00878906  …  0.991211, 0.992188, 0.993164, 0.994141, 0.995117, 0.996094, 0.99707, 0.998047, 0.999023, 1.0]\n",
       "u: BigFloat[0.50, 0.500493, 0.500987, 0.501482, 0.501977, 0.502472, 0.502968, 0.503464, 0.503961, 0.504458  …  1.36067, 1.36201, 1.36335, 1.3647, 1.36605, 1.3674, 1.36874, 1.3701, 1.37145, 1.3728], retcode: Success\n",
       "Interpolation: 3rd order Hermite\n",
       "t: [0.0, 0.00195313, 0.00390625, 0.00585938, 0.0078125, 0.00976563, 0.0117188, 0.0136719, 0.015625, 0.0175781  …  0.982422, 0.984375, 0.986328, 0.988281, 0.990234, 0.992188, 0.994141, 0.996094, 0.998047, 1.0]\n",
       "u: BigFloat[0.50, 0.500987, 0.501977, 0.502968, 0.503961, 0.504956, 0.505953, 0.506952, 0.507953, 0.508956  …  1.34864, 1.35131, 1.35397, 1.35665, 1.35933, 1.36201, 1.3647, 1.3674, 1.3701, 1.3728], retcode: Success\n",
       "Interpolation: 3rd order Hermite\n",
       "t: [0.0, 0.00390625, 0.0078125, 0.0117188, 0.015625, 0.0195313, 0.0234375, 0.0273438, 0.03125, 0.0351563  …  0.964844, 0.96875, 0.972656, 0.976563, 0.980469, 0.984375, 0.988281, 0.992188, 0.996094, 1.0]\n",
       "u: BigFloat[0.50, 0.501977, 0.503961, 0.505953, 0.507953, 0.509961, 0.511977, 0.514001, 0.516033, 0.518073  …  1.32491, 1.33015, 1.33541, 1.34069, 1.34599, 1.35131, 1.35665, 1.36201, 1.3674, 1.3728], retcode: Success\n",
       "Interpolation: 3rd order Hermite\n",
       "t: [0.0, 0.0078125, 0.015625, 0.0234375, 0.03125, 0.0390625, 0.046875, 0.0546875, 0.0625, 0.0703125  …  0.929688, 0.9375, 0.945313, 0.953125, 0.960938, 0.96875, 0.976563, 0.984375, 0.992188, 1.0]\n",
       "u: BigFloat[0.50, 0.503961, 0.507953, 0.511977, 0.516033, 0.520121, 0.524241, 0.528394, 0.53258, 0.536799  …  1.27869, 1.28882, 1.29903, 1.30932, 1.31969, 1.33015, 1.34069, 1.35131, 1.36201, 1.3728], retcode: Success\n",
       "Interpolation: 3rd order Hermite\n",
       "t: [0.0, 0.015625, 0.03125, 0.046875, 0.0625, 0.078125, 0.09375, 0.109375, 0.125, 0.140625  …  0.859375, 0.875, 0.890625, 0.90625, 0.921875, 0.9375, 0.953125, 0.96875, 0.984375, 1.0]\n",
       "u: BigFloat[0.50, 0.507953, 0.516033, 0.524241, 0.53258, 0.541051, 0.549658, 0.558401, 0.567283, 0.576306  …  1.19103, 1.20998, 1.22923, 1.24878, 1.26864, 1.28882, 1.30932, 1.33015, 1.35131, 1.3728], retcode: Success\n",
       "Interpolation: 3rd order Hermite\n",
       "t: [0.0, 0.03125, 0.0625, 0.09375, 0.125, 0.15625, 0.1875, 0.21875, 0.25, 0.28125  …  0.71875, 0.75, 0.78125, 0.8125, 0.84375, 0.875, 0.90625, 0.9375, 0.96875, 1.0]\n",
       "u: BigFloat[0.50, 0.516033, 0.53258, 0.549658, 0.567283, 0.585473, 0.604247, 0.623623, 0.64362, 0.664258  …  1.03333, 1.06647, 1.10067, 1.13596, 1.17239, 1.20998, 1.24878, 1.28882, 1.33015, 1.3728], retcode: Success\n",
       "Interpolation: 3rd order Hermite\n",
       "t: [0.0, 0.0625, 0.125, 0.1875, 0.25, 0.3125, 0.375, 0.4375, 0.5, 0.5625, 0.625, 0.6875, 0.75, 0.8125, 0.875, 0.9375, 1.0]\n",
       "u: BigFloat[0.50, 0.53258, 0.567283, 0.604247, 0.64362, 0.685558, 0.730229, 0.777811, 0.828493, 0.882477, 0.93998, 1.00123, 1.06647, 1.13596, 1.20998, 1.28882, 1.3728]], Dict{Any,Any}(:l∞=>BigFloat[3.35435e-49, 5.07978e-45, 6.96505e-41, 6.99856e-37, 2.7616e-33, 4.96506e-28, 2.19751e-23],:final=>BigFloat[3.35435e-49, 5.07978e-45, 6.96505e-41, 6.99856e-37, 2.7616e-33, 4.96506e-28, 2.19751e-23],:l2=>BigFloat[1.55766e-49, 2.36041e-45, 3.24061e-41, 3.26457e-37, 1.29478e-33, 2.35149e-28, 1.0615e-23]), 7, Dict(:dts=>[0.000976563, 0.00195313, 0.00390625, 0.0078125, 0.015625, 0.03125, 0.0625]), Dict{Any,Any}(:l∞=>14.2933,:final=>14.2933,:l2=>14.3028), [0.000976563, 0.00195313, 0.00390625, 0.0078125, 0.015625, 0.03125, 0.0625])"
      ]
     },
     "execution_count": 7,
     "metadata": {},
     "output_type": "execute_result"
    }
   ],
   "source": [
    "using DiffEqDevTools\n",
    "dts = 1.0 ./ 2.0 .^(10:-1:4)\n",
    "sim = test_convergence(dts,prob,Feagin14())"
   ]
  },
  {
   "cell_type": "markdown",
   "metadata": {},
   "source": [
    "For a view of what's going on, let's plot the simulation results."
   ]
  },
  {
   "cell_type": "code",
   "execution_count": 8,
   "metadata": {
    "ExecuteTime": {
     "end_time": "2019-03-15T00:58:24.501000+01:00",
     "start_time": "2019-03-14T23:58:06.761Z"
    }
   },
   "outputs": [
    {
     "data": {
      "image/svg+xml": [
       "<?xml version=\"1.0\" encoding=\"utf-8\"?>\n",
       "<svg xmlns=\"http://www.w3.org/2000/svg\" xmlns:xlink=\"http://www.w3.org/1999/xlink\" width=\"600\" height=\"400\" viewBox=\"0 0 2400 1600\">\n",
       "<defs>\n",
       "  <clipPath id=\"clip7100\">\n",
       "    <rect x=\"0\" y=\"0\" width=\"2000\" height=\"2000\"/>\n",
       "  </clipPath>\n",
       "</defs>\n",
       "<defs>\n",
       "  <clipPath id=\"clip7101\">\n",
       "    <rect x=\"0\" y=\"0\" width=\"2400\" height=\"1600\"/>\n",
       "  </clipPath>\n",
       "</defs>\n",
       "<polygon clip-path=\"url(#clip7101)\" points=\"\n",
       "0,1600 2400,1600 2400,0 0,0 \n",
       "  \" fill=\"#ffffff\" fill-rule=\"evenodd\" fill-opacity=\"1\"/>\n",
       "<defs>\n",
       "  <clipPath id=\"clip7102\">\n",
       "    <rect x=\"480\" y=\"0\" width=\"1681\" height=\"1600\"/>\n",
       "  </clipPath>\n",
       "</defs>\n",
       "<polygon clip-path=\"url(#clip7101)\" points=\"\n",
       "315.214,1440.48 2321.26,1440.48 2321.26,47.2441 315.214,47.2441 \n",
       "  \" fill=\"#ffffff\" fill-rule=\"evenodd\" fill-opacity=\"1\"/>\n",
       "<defs>\n",
       "  <clipPath id=\"clip7103\">\n",
       "    <rect x=\"315\" y=\"47\" width=\"2007\" height=\"1394\"/>\n",
       "  </clipPath>\n",
       "</defs>\n",
       "<polyline clip-path=\"url(#clip7103)\" style=\"stroke:#000000; stroke-width:2; stroke-opacity:0.1; fill:none\" points=\"\n",
       "  382.782,1440.48 382.782,47.2441 \n",
       "  \"/>\n",
       "<polyline clip-path=\"url(#clip7103)\" style=\"stroke:#000000; stroke-width:2; stroke-opacity:0.1; fill:none\" points=\"\n",
       "  906.676,1440.48 906.676,47.2441 \n",
       "  \"/>\n",
       "<polyline clip-path=\"url(#clip7103)\" style=\"stroke:#000000; stroke-width:2; stroke-opacity:0.1; fill:none\" points=\"\n",
       "  1430.57,1440.48 1430.57,47.2441 \n",
       "  \"/>\n",
       "<polyline clip-path=\"url(#clip7103)\" style=\"stroke:#000000; stroke-width:2; stroke-opacity:0.1; fill:none\" points=\"\n",
       "  1954.47,1440.48 1954.47,47.2441 \n",
       "  \"/>\n",
       "<polyline clip-path=\"url(#clip7103)\" style=\"stroke:#000000; stroke-width:2; stroke-opacity:0.1; fill:none\" points=\"\n",
       "  315.214,1209.67 2321.26,1209.67 \n",
       "  \"/>\n",
       "<polyline clip-path=\"url(#clip7103)\" style=\"stroke:#000000; stroke-width:2; stroke-opacity:0.1; fill:none\" points=\"\n",
       "  315.214,958.35 2321.26,958.35 \n",
       "  \"/>\n",
       "<polyline clip-path=\"url(#clip7103)\" style=\"stroke:#000000; stroke-width:2; stroke-opacity:0.1; fill:none\" points=\"\n",
       "  315.214,707.03 2321.26,707.03 \n",
       "  \"/>\n",
       "<polyline clip-path=\"url(#clip7103)\" style=\"stroke:#000000; stroke-width:2; stroke-opacity:0.1; fill:none\" points=\"\n",
       "  315.214,455.71 2321.26,455.71 \n",
       "  \"/>\n",
       "<polyline clip-path=\"url(#clip7103)\" style=\"stroke:#000000; stroke-width:2; stroke-opacity:0.1; fill:none\" points=\"\n",
       "  315.214,204.39 2321.26,204.39 \n",
       "  \"/>\n",
       "<polyline clip-path=\"url(#clip7101)\" style=\"stroke:#000000; stroke-width:4; stroke-opacity:1; fill:none\" points=\"\n",
       "  315.214,1440.48 2321.26,1440.48 \n",
       "  \"/>\n",
       "<polyline clip-path=\"url(#clip7101)\" style=\"stroke:#000000; stroke-width:4; stroke-opacity:1; fill:none\" points=\"\n",
       "  315.214,1440.48 315.214,47.2441 \n",
       "  \"/>\n",
       "<polyline clip-path=\"url(#clip7101)\" style=\"stroke:#000000; stroke-width:4; stroke-opacity:1; fill:none\" points=\"\n",
       "  382.782,1440.48 382.782,1419.58 \n",
       "  \"/>\n",
       "<polyline clip-path=\"url(#clip7101)\" style=\"stroke:#000000; stroke-width:4; stroke-opacity:1; fill:none\" points=\"\n",
       "  906.676,1440.48 906.676,1419.58 \n",
       "  \"/>\n",
       "<polyline clip-path=\"url(#clip7101)\" style=\"stroke:#000000; stroke-width:4; stroke-opacity:1; fill:none\" points=\"\n",
       "  1430.57,1440.48 1430.57,1419.58 \n",
       "  \"/>\n",
       "<polyline clip-path=\"url(#clip7101)\" style=\"stroke:#000000; stroke-width:4; stroke-opacity:1; fill:none\" points=\"\n",
       "  1954.47,1440.48 1954.47,1419.58 \n",
       "  \"/>\n",
       "<polyline clip-path=\"url(#clip7101)\" style=\"stroke:#000000; stroke-width:4; stroke-opacity:1; fill:none\" points=\"\n",
       "  315.214,1209.67 345.305,1209.67 \n",
       "  \"/>\n",
       "<polyline clip-path=\"url(#clip7101)\" style=\"stroke:#000000; stroke-width:4; stroke-opacity:1; fill:none\" points=\"\n",
       "  315.214,958.35 345.305,958.35 \n",
       "  \"/>\n",
       "<polyline clip-path=\"url(#clip7101)\" style=\"stroke:#000000; stroke-width:4; stroke-opacity:1; fill:none\" points=\"\n",
       "  315.214,707.03 345.305,707.03 \n",
       "  \"/>\n",
       "<polyline clip-path=\"url(#clip7101)\" style=\"stroke:#000000; stroke-width:4; stroke-opacity:1; fill:none\" points=\"\n",
       "  315.214,455.71 345.305,455.71 \n",
       "  \"/>\n",
       "<polyline clip-path=\"url(#clip7101)\" style=\"stroke:#000000; stroke-width:4; stroke-opacity:1; fill:none\" points=\"\n",
       "  315.214,204.39 345.305,204.39 \n",
       "  \"/>\n",
       "<g clip-path=\"url(#clip7101)\">\n",
       "<text style=\"fill:#000000; fill-opacity:1; font-family:Arial,Helvetica Neue,Helvetica,sans-serif; font-size:48px; text-anchor:start;\" transform=\"rotate(0, 311.983, 1515.49)\" x=\"311.983\" y=\"1515.49\">10</text>\n",
       "</g>\n",
       "<g clip-path=\"url(#clip7101)\">\n",
       "<text style=\"fill:#000000; fill-opacity:1; font-family:Arial,Helvetica Neue,Helvetica,sans-serif; font-size:38px; text-anchor:start;\" transform=\"rotate(0, 365.508, 1488.08)\" x=\"365.508\" y=\"1488.08\">-</text>\n",
       "</g>\n",
       "<g clip-path=\"url(#clip7101)\">\n",
       "<text style=\"fill:#000000; fill-opacity:1; font-family:Arial,Helvetica Neue,Helvetica,sans-serif; font-size:38px; text-anchor:start;\" transform=\"rotate(0, 388.347, 1488.08)\" x=\"388.347\" y=\"1488.08\">3.0 </text>\n",
       "</g>\n",
       "<g clip-path=\"url(#clip7101)\">\n",
       "<text style=\"fill:#000000; fill-opacity:1; font-family:Arial,Helvetica Neue,Helvetica,sans-serif; font-size:48px; text-anchor:start;\" transform=\"rotate(0, 835.877, 1515.49)\" x=\"835.877\" y=\"1515.49\">10</text>\n",
       "</g>\n",
       "<g clip-path=\"url(#clip7101)\">\n",
       "<text style=\"fill:#000000; fill-opacity:1; font-family:Arial,Helvetica Neue,Helvetica,sans-serif; font-size:38px; text-anchor:start;\" transform=\"rotate(0, 889.402, 1488.08)\" x=\"889.402\" y=\"1488.08\">-</text>\n",
       "</g>\n",
       "<g clip-path=\"url(#clip7101)\">\n",
       "<text style=\"fill:#000000; fill-opacity:1; font-family:Arial,Helvetica Neue,Helvetica,sans-serif; font-size:38px; text-anchor:start;\" transform=\"rotate(0, 912.242, 1488.08)\" x=\"912.242\" y=\"1488.08\">2.5 </text>\n",
       "</g>\n",
       "<g clip-path=\"url(#clip7101)\">\n",
       "<text style=\"fill:#000000; fill-opacity:1; font-family:Arial,Helvetica Neue,Helvetica,sans-serif; font-size:48px; text-anchor:start;\" transform=\"rotate(0, 1359.77, 1515.49)\" x=\"1359.77\" y=\"1515.49\">10</text>\n",
       "</g>\n",
       "<g clip-path=\"url(#clip7101)\">\n",
       "<text style=\"fill:#000000; fill-opacity:1; font-family:Arial,Helvetica Neue,Helvetica,sans-serif; font-size:38px; text-anchor:start;\" transform=\"rotate(0, 1413.3, 1488.08)\" x=\"1413.3\" y=\"1488.08\">-</text>\n",
       "</g>\n",
       "<g clip-path=\"url(#clip7101)\">\n",
       "<text style=\"fill:#000000; fill-opacity:1; font-family:Arial,Helvetica Neue,Helvetica,sans-serif; font-size:38px; text-anchor:start;\" transform=\"rotate(0, 1436.14, 1488.08)\" x=\"1436.14\" y=\"1488.08\">2.0 </text>\n",
       "</g>\n",
       "<g clip-path=\"url(#clip7101)\">\n",
       "<text style=\"fill:#000000; fill-opacity:1; font-family:Arial,Helvetica Neue,Helvetica,sans-serif; font-size:48px; text-anchor:start;\" transform=\"rotate(0, 1883.67, 1515.49)\" x=\"1883.67\" y=\"1515.49\">10</text>\n",
       "</g>\n",
       "<g clip-path=\"url(#clip7101)\">\n",
       "<text style=\"fill:#000000; fill-opacity:1; font-family:Arial,Helvetica Neue,Helvetica,sans-serif; font-size:38px; text-anchor:start;\" transform=\"rotate(0, 1937.19, 1488.08)\" x=\"1937.19\" y=\"1488.08\">-</text>\n",
       "</g>\n",
       "<g clip-path=\"url(#clip7101)\">\n",
       "<text style=\"fill:#000000; fill-opacity:1; font-family:Arial,Helvetica Neue,Helvetica,sans-serif; font-size:38px; text-anchor:start;\" transform=\"rotate(0, 1960.03, 1488.08)\" x=\"1960.03\" y=\"1488.08\">1.5 </text>\n",
       "</g>\n",
       "<g clip-path=\"url(#clip7101)\">\n",
       "<text style=\"fill:#000000; fill-opacity:1; font-family:Arial,Helvetica Neue,Helvetica,sans-serif; font-size:48px; text-anchor:start;\" transform=\"rotate(0, 160.489, 1233.4)\" x=\"160.489\" y=\"1233.4\">10</text>\n",
       "</g>\n",
       "<g clip-path=\"url(#clip7101)\">\n",
       "<text style=\"fill:#000000; fill-opacity:1; font-family:Arial,Helvetica Neue,Helvetica,sans-serif; font-size:38px; text-anchor:start;\" transform=\"rotate(0, 214.014, 1205.99)\" x=\"214.014\" y=\"1205.99\">-</text>\n",
       "</g>\n",
       "<g clip-path=\"url(#clip7101)\">\n",
       "<text style=\"fill:#000000; fill-opacity:1; font-family:Arial,Helvetica Neue,Helvetica,sans-serif; font-size:38px; text-anchor:start;\" transform=\"rotate(0, 236.853, 1205.99)\" x=\"236.853\" y=\"1205.99\">45 </text>\n",
       "</g>\n",
       "<g clip-path=\"url(#clip7101)\">\n",
       "<text style=\"fill:#000000; fill-opacity:1; font-family:Arial,Helvetica Neue,Helvetica,sans-serif; font-size:48px; text-anchor:start;\" transform=\"rotate(0, 160.489, 982.077)\" x=\"160.489\" y=\"982.077\">10</text>\n",
       "</g>\n",
       "<g clip-path=\"url(#clip7101)\">\n",
       "<text style=\"fill:#000000; fill-opacity:1; font-family:Arial,Helvetica Neue,Helvetica,sans-serif; font-size:38px; text-anchor:start;\" transform=\"rotate(0, 214.014, 954.667)\" x=\"214.014\" y=\"954.667\">-</text>\n",
       "</g>\n",
       "<g clip-path=\"url(#clip7101)\">\n",
       "<text style=\"fill:#000000; fill-opacity:1; font-family:Arial,Helvetica Neue,Helvetica,sans-serif; font-size:38px; text-anchor:start;\" transform=\"rotate(0, 236.853, 954.667)\" x=\"236.853\" y=\"954.667\">40 </text>\n",
       "</g>\n",
       "<g clip-path=\"url(#clip7101)\">\n",
       "<text style=\"fill:#000000; fill-opacity:1; font-family:Arial,Helvetica Neue,Helvetica,sans-serif; font-size:48px; text-anchor:start;\" transform=\"rotate(0, 160.489, 730.758)\" x=\"160.489\" y=\"730.758\">10</text>\n",
       "</g>\n",
       "<g clip-path=\"url(#clip7101)\">\n",
       "<text style=\"fill:#000000; fill-opacity:1; font-family:Arial,Helvetica Neue,Helvetica,sans-serif; font-size:38px; text-anchor:start;\" transform=\"rotate(0, 214.014, 703.347)\" x=\"214.014\" y=\"703.347\">-</text>\n",
       "</g>\n",
       "<g clip-path=\"url(#clip7101)\">\n",
       "<text style=\"fill:#000000; fill-opacity:1; font-family:Arial,Helvetica Neue,Helvetica,sans-serif; font-size:38px; text-anchor:start;\" transform=\"rotate(0, 236.853, 703.347)\" x=\"236.853\" y=\"703.347\">35 </text>\n",
       "</g>\n",
       "<g clip-path=\"url(#clip7101)\">\n",
       "<text style=\"fill:#000000; fill-opacity:1; font-family:Arial,Helvetica Neue,Helvetica,sans-serif; font-size:48px; text-anchor:start;\" transform=\"rotate(0, 160.489, 479.438)\" x=\"160.489\" y=\"479.438\">10</text>\n",
       "</g>\n",
       "<g clip-path=\"url(#clip7101)\">\n",
       "<text style=\"fill:#000000; fill-opacity:1; font-family:Arial,Helvetica Neue,Helvetica,sans-serif; font-size:38px; text-anchor:start;\" transform=\"rotate(0, 214.014, 452.027)\" x=\"214.014\" y=\"452.027\">-</text>\n",
       "</g>\n",
       "<g clip-path=\"url(#clip7101)\">\n",
       "<text style=\"fill:#000000; fill-opacity:1; font-family:Arial,Helvetica Neue,Helvetica,sans-serif; font-size:38px; text-anchor:start;\" transform=\"rotate(0, 236.853, 452.027)\" x=\"236.853\" y=\"452.027\">30 </text>\n",
       "</g>\n",
       "<g clip-path=\"url(#clip7101)\">\n",
       "<text style=\"fill:#000000; fill-opacity:1; font-family:Arial,Helvetica Neue,Helvetica,sans-serif; font-size:48px; text-anchor:start;\" transform=\"rotate(0, 160.489, 228.118)\" x=\"160.489\" y=\"228.118\">10</text>\n",
       "</g>\n",
       "<g clip-path=\"url(#clip7101)\">\n",
       "<text style=\"fill:#000000; fill-opacity:1; font-family:Arial,Helvetica Neue,Helvetica,sans-serif; font-size:38px; text-anchor:start;\" transform=\"rotate(0, 214.014, 200.707)\" x=\"214.014\" y=\"200.707\">-</text>\n",
       "</g>\n",
       "<g clip-path=\"url(#clip7101)\">\n",
       "<text style=\"fill:#000000; fill-opacity:1; font-family:Arial,Helvetica Neue,Helvetica,sans-serif; font-size:38px; text-anchor:start;\" transform=\"rotate(0, 236.853, 200.707)\" x=\"236.853\" y=\"200.707\">25 </text>\n",
       "</g>\n",
       "<g clip-path=\"url(#clip7101)\">\n",
       "<text style=\"fill:#000000; fill-opacity:1; font-family:Arial,Helvetica Neue,Helvetica,sans-serif; font-size:66px; text-anchor:middle;\" transform=\"rotate(0, 1318.24, 1590.4)\" x=\"1318.24\" y=\"1590.4\">Convergence Axis</text>\n",
       "</g>\n",
       "<g clip-path=\"url(#clip7101)\">\n",
       "<text style=\"fill:#000000; fill-opacity:1; font-family:Arial,Helvetica Neue,Helvetica,sans-serif; font-size:66px; text-anchor:middle;\" transform=\"rotate(-90, 57.6, 743.863)\" x=\"57.6\" y=\"743.863\">Error</text>\n",
       "</g>\n",
       "<polyline clip-path=\"url(#clip7103)\" style=\"stroke:#009af9; stroke-width:12; stroke-opacity:1; fill:none\" points=\"\n",
       "  371.989,1384.31 687.405,1174.19 1002.82,966.245 1318.24,765.084 1633.65,584.327 1949.07,320.202 2264.48,86.6754 \n",
       "  \"/>\n",
       "<circle clip-path=\"url(#clip7103)\" style=\"fill:#000000; stroke:none; fill-opacity:1\" cx=\"371.989\" cy=\"1384.31\" r=\"18\"/>\n",
       "<circle clip-path=\"url(#clip7103)\" style=\"fill:#009af9; stroke:none; fill-opacity:1\" cx=\"371.989\" cy=\"1384.31\" r=\"14\"/>\n",
       "<circle clip-path=\"url(#clip7103)\" style=\"fill:#000000; stroke:none; fill-opacity:1\" cx=\"687.405\" cy=\"1174.19\" r=\"18\"/>\n",
       "<circle clip-path=\"url(#clip7103)\" style=\"fill:#009af9; stroke:none; fill-opacity:1\" cx=\"687.405\" cy=\"1174.19\" r=\"14\"/>\n",
       "<circle clip-path=\"url(#clip7103)\" style=\"fill:#000000; stroke:none; fill-opacity:1\" cx=\"1002.82\" cy=\"966.245\" r=\"18\"/>\n",
       "<circle clip-path=\"url(#clip7103)\" style=\"fill:#009af9; stroke:none; fill-opacity:1\" cx=\"1002.82\" cy=\"966.245\" r=\"14\"/>\n",
       "<circle clip-path=\"url(#clip7103)\" style=\"fill:#000000; stroke:none; fill-opacity:1\" cx=\"1318.24\" cy=\"765.084\" r=\"18\"/>\n",
       "<circle clip-path=\"url(#clip7103)\" style=\"fill:#009af9; stroke:none; fill-opacity:1\" cx=\"1318.24\" cy=\"765.084\" r=\"14\"/>\n",
       "<circle clip-path=\"url(#clip7103)\" style=\"fill:#000000; stroke:none; fill-opacity:1\" cx=\"1633.65\" cy=\"584.327\" r=\"18\"/>\n",
       "<circle clip-path=\"url(#clip7103)\" style=\"fill:#009af9; stroke:none; fill-opacity:1\" cx=\"1633.65\" cy=\"584.327\" r=\"14\"/>\n",
       "<circle clip-path=\"url(#clip7103)\" style=\"fill:#000000; stroke:none; fill-opacity:1\" cx=\"1949.07\" cy=\"320.202\" r=\"18\"/>\n",
       "<circle clip-path=\"url(#clip7103)\" style=\"fill:#009af9; stroke:none; fill-opacity:1\" cx=\"1949.07\" cy=\"320.202\" r=\"14\"/>\n",
       "<circle clip-path=\"url(#clip7103)\" style=\"fill:#000000; stroke:none; fill-opacity:1\" cx=\"2264.48\" cy=\"86.6754\" r=\"18\"/>\n",
       "<circle clip-path=\"url(#clip7103)\" style=\"fill:#009af9; stroke:none; fill-opacity:1\" cx=\"2264.48\" cy=\"86.6754\" r=\"14\"/>\n",
       "<polyline clip-path=\"url(#clip7103)\" style=\"stroke:#e26f46; stroke-width:12; stroke-opacity:1; fill:none\" points=\"\n",
       "  371.989,1384.31 687.405,1174.19 1002.82,966.245 1318.24,765.084 1633.65,584.327 1949.07,320.202 2264.48,86.6754 \n",
       "  \"/>\n",
       "<polygon clip-path=\"url(#clip7103)\" style=\"fill:#000000; fill-opacity:1\" points=\"\n",
       "  351.989,1364.31 351.989,1404.31 391.989,1404.31 391.989,1364.31 351.989,1364.31 \n",
       "  \"/>\n",
       "<polygon clip-path=\"url(#clip7103)\" style=\"fill:#e26f46; fill-opacity:1\" points=\"\n",
       "  355.989,1368.31 355.989,1400.31 387.989,1400.31 387.989,1368.31 355.989,1368.31 \n",
       "  \"/>\n",
       "<polygon clip-path=\"url(#clip7103)\" style=\"fill:#000000; fill-opacity:1\" points=\"\n",
       "  667.405,1154.19 667.405,1194.19 707.405,1194.19 707.405,1154.19 667.405,1154.19 \n",
       "  \"/>\n",
       "<polygon clip-path=\"url(#clip7103)\" style=\"fill:#e26f46; fill-opacity:1\" points=\"\n",
       "  671.405,1158.19 671.405,1190.19 703.405,1190.19 703.405,1158.19 671.405,1158.19 \n",
       "  \"/>\n",
       "<polygon clip-path=\"url(#clip7103)\" style=\"fill:#000000; fill-opacity:1\" points=\"\n",
       "  982.821,946.245 982.821,986.245 1022.82,986.245 1022.82,946.245 982.821,946.245 \n",
       "  \"/>\n",
       "<polygon clip-path=\"url(#clip7103)\" style=\"fill:#e26f46; fill-opacity:1\" points=\"\n",
       "  986.821,950.245 986.821,982.245 1018.82,982.245 1018.82,950.245 986.821,950.245 \n",
       "  \"/>\n",
       "<polygon clip-path=\"url(#clip7103)\" style=\"fill:#000000; fill-opacity:1\" points=\"\n",
       "  1298.24,745.084 1298.24,785.084 1338.24,785.084 1338.24,745.084 1298.24,745.084 \n",
       "  \"/>\n",
       "<polygon clip-path=\"url(#clip7103)\" style=\"fill:#e26f46; fill-opacity:1\" points=\"\n",
       "  1302.24,749.084 1302.24,781.084 1334.24,781.084 1334.24,749.084 1302.24,749.084 \n",
       "  \"/>\n",
       "<polygon clip-path=\"url(#clip7103)\" style=\"fill:#000000; fill-opacity:1\" points=\"\n",
       "  1613.65,564.327 1613.65,604.327 1653.65,604.327 1653.65,564.327 1613.65,564.327 \n",
       "  \"/>\n",
       "<polygon clip-path=\"url(#clip7103)\" style=\"fill:#e26f46; fill-opacity:1\" points=\"\n",
       "  1617.65,568.327 1617.65,600.327 1649.65,600.327 1649.65,568.327 1617.65,568.327 \n",
       "  \"/>\n",
       "<polygon clip-path=\"url(#clip7103)\" style=\"fill:#000000; fill-opacity:1\" points=\"\n",
       "  1929.07,300.202 1929.07,340.202 1969.07,340.202 1969.07,300.202 1929.07,300.202 \n",
       "  \"/>\n",
       "<polygon clip-path=\"url(#clip7103)\" style=\"fill:#e26f46; fill-opacity:1\" points=\"\n",
       "  1933.07,304.202 1933.07,336.202 1965.07,336.202 1965.07,304.202 1933.07,304.202 \n",
       "  \"/>\n",
       "<polygon clip-path=\"url(#clip7103)\" style=\"fill:#000000; fill-opacity:1\" points=\"\n",
       "  2244.48,66.6754 2244.48,106.675 2284.48,106.675 2284.48,66.6754 2244.48,66.6754 \n",
       "  \"/>\n",
       "<polygon clip-path=\"url(#clip7103)\" style=\"fill:#e26f46; fill-opacity:1\" points=\"\n",
       "  2248.48,70.6754 2248.48,102.675 2280.48,102.675 2280.48,70.6754 2248.48,70.6754 \n",
       "  \"/>\n",
       "<polyline clip-path=\"url(#clip7103)\" style=\"stroke:#3da44d; stroke-width:12; stroke-opacity:1; fill:none\" points=\"\n",
       "  371.989,1401.05 687.405,1190.92 1002.82,982.948 1318.24,781.731 1633.65,600.863 1949.07,336.517 2264.48,102.559 \n",
       "  \"/>\n",
       "<polygon clip-path=\"url(#clip7103)\" style=\"fill:#000000; fill-opacity:1\" points=\"\n",
       "  371.989,1381.05 367.289,1394.57 352.969,1394.87 364.389,1403.53 360.229,1417.23 371.989,1409.05 383.749,1417.23 379.589,1403.53 391.009,1394.87 376.689,1394.57 \n",
       "  371.989,1381.05 \n",
       "  \"/>\n",
       "<polygon clip-path=\"url(#clip7103)\" style=\"fill:#3da44d; fill-opacity:1\" points=\"\n",
       "  371.989,1385.05 368.229,1395.87 356.773,1396.11 365.909,1403.04 362.581,1414 371.989,1407.45 381.397,1414 378.069,1403.04 387.205,1396.11 375.749,1395.87 \n",
       "  371.989,1385.05 \n",
       "  \"/>\n",
       "<polygon clip-path=\"url(#clip7103)\" style=\"fill:#000000; fill-opacity:1\" points=\"\n",
       "  687.405,1170.92 682.705,1184.44 668.385,1184.74 679.805,1193.4 675.645,1207.1 687.405,1198.92 699.165,1207.1 695.005,1193.4 706.425,1184.74 692.105,1184.44 \n",
       "  687.405,1170.92 \n",
       "  \"/>\n",
       "<polygon clip-path=\"url(#clip7103)\" style=\"fill:#3da44d; fill-opacity:1\" points=\"\n",
       "  687.405,1174.92 683.645,1185.74 672.189,1185.98 681.325,1192.91 677.997,1203.87 687.405,1197.32 696.813,1203.87 693.485,1192.91 702.621,1185.98 691.165,1185.74 \n",
       "  687.405,1174.92 \n",
       "  \"/>\n",
       "<polygon clip-path=\"url(#clip7103)\" style=\"fill:#000000; fill-opacity:1\" points=\"\n",
       "  1002.82,962.948 998.121,976.468 983.801,976.768 995.221,985.428 991.061,999.128 1002.82,990.948 1014.58,999.128 1010.42,985.428 1021.84,976.768 1007.52,976.468 \n",
       "  1002.82,962.948 \n",
       "  \"/>\n",
       "<polygon clip-path=\"url(#clip7103)\" style=\"fill:#3da44d; fill-opacity:1\" points=\"\n",
       "  1002.82,966.948 999.061,977.764 987.605,978.004 996.741,984.932 993.413,995.892 1002.82,989.348 1012.23,995.892 1008.9,984.932 1018.04,978.004 1006.58,977.764 \n",
       "  1002.82,966.948 \n",
       "  \"/>\n",
       "<polygon clip-path=\"url(#clip7103)\" style=\"fill:#000000; fill-opacity:1\" points=\"\n",
       "  1318.24,761.731 1313.54,775.251 1299.22,775.551 1310.64,784.211 1306.48,797.911 1318.24,789.731 1330,797.911 1325.84,784.211 1337.26,775.551 1322.94,775.251 \n",
       "  1318.24,761.731 \n",
       "  \"/>\n",
       "<polygon clip-path=\"url(#clip7103)\" style=\"fill:#3da44d; fill-opacity:1\" points=\"\n",
       "  1318.24,765.731 1314.48,776.547 1303.02,776.787 1312.16,783.715 1308.83,794.675 1318.24,788.131 1327.65,794.675 1324.32,783.715 1333.45,776.787 1322,776.547 \n",
       "  1318.24,765.731 \n",
       "  \"/>\n",
       "<polygon clip-path=\"url(#clip7103)\" style=\"fill:#000000; fill-opacity:1\" points=\"\n",
       "  1633.65,580.863 1628.95,594.383 1614.63,594.683 1626.05,603.343 1621.89,617.043 1633.65,608.863 1645.41,617.043 1641.25,603.343 1652.67,594.683 1638.35,594.383 \n",
       "  1633.65,580.863 \n",
       "  \"/>\n",
       "<polygon clip-path=\"url(#clip7103)\" style=\"fill:#3da44d; fill-opacity:1\" points=\"\n",
       "  1633.65,584.863 1629.89,595.679 1618.44,595.919 1627.57,602.847 1624.25,613.807 1633.65,607.263 1643.06,613.807 1639.73,602.847 1648.87,595.919 1637.41,595.679 \n",
       "  1633.65,584.863 \n",
       "  \"/>\n",
       "<polygon clip-path=\"url(#clip7103)\" style=\"fill:#000000; fill-opacity:1\" points=\"\n",
       "  1949.07,316.517 1944.37,330.037 1930.05,330.337 1941.47,338.997 1937.31,352.697 1949.07,344.517 1960.83,352.697 1956.67,338.997 1968.09,330.337 1953.77,330.037 \n",
       "  1949.07,316.517 \n",
       "  \"/>\n",
       "<polygon clip-path=\"url(#clip7103)\" style=\"fill:#3da44d; fill-opacity:1\" points=\"\n",
       "  1949.07,320.517 1945.31,331.333 1933.85,331.573 1942.99,338.501 1939.66,349.461 1949.07,342.917 1958.48,349.461 1955.15,338.501 1964.29,331.573 1952.83,331.333 \n",
       "  1949.07,320.517 \n",
       "  \"/>\n",
       "<polygon clip-path=\"url(#clip7103)\" style=\"fill:#000000; fill-opacity:1\" points=\"\n",
       "  2264.48,82.5593 2259.78,96.0793 2245.46,96.3793 2256.88,105.039 2252.72,118.739 2264.48,110.559 2276.24,118.739 2272.08,105.039 2283.5,96.3793 2269.18,96.0793 \n",
       "  2264.48,82.5593 \n",
       "  \"/>\n",
       "<polygon clip-path=\"url(#clip7103)\" style=\"fill:#3da44d; fill-opacity:1\" points=\"\n",
       "  2264.48,86.5593 2260.72,97.3753 2249.27,97.6153 2258.4,104.543 2255.08,115.503 2264.48,108.959 2273.89,115.503 2270.56,104.543 2279.7,97.6153 2268.24,97.3753 \n",
       "  2264.48,86.5593 \n",
       "  \"/>\n",
       "<polygon clip-path=\"url(#clip7101)\" points=\"\n",
       "1920.98,372.684 2249.26,372.684 2249.26,130.764 1920.98,130.764 \n",
       "  \" fill=\"#ffffff\" fill-rule=\"evenodd\" fill-opacity=\"1\"/>\n",
       "<polyline clip-path=\"url(#clip7101)\" style=\"stroke:#000000; stroke-width:4; stroke-opacity:1; fill:none\" points=\"\n",
       "  1920.98,372.684 2249.26,372.684 2249.26,130.764 1920.98,130.764 1920.98,372.684 \n",
       "  \"/>\n",
       "<polyline clip-path=\"url(#clip7101)\" style=\"stroke:#009af9; stroke-width:12; stroke-opacity:1; fill:none\" points=\"\n",
       "  1944.98,191.244 2088.98,191.244 \n",
       "  \"/>\n",
       "<circle clip-path=\"url(#clip7101)\" style=\"fill:#000000; stroke:none; fill-opacity:1\" cx=\"2028.98\" cy=\"191.244\" r=\"25\"/>\n",
       "<circle clip-path=\"url(#clip7101)\" style=\"fill:#009af9; stroke:none; fill-opacity:1\" cx=\"2028.98\" cy=\"191.244\" r=\"21\"/>\n",
       "<g clip-path=\"url(#clip7101)\">\n",
       "<text style=\"fill:#000000; fill-opacity:1; font-family:Arial,Helvetica Neue,Helvetica,sans-serif; font-size:48px; text-anchor:start;\" transform=\"rotate(0, 2112.98, 208.744)\" x=\"2112.98\" y=\"208.744\">lâ</text>\n",
       "</g>\n",
       "<polyline clip-path=\"url(#clip7101)\" style=\"stroke:#e26f46; stroke-width:12; stroke-opacity:1; fill:none\" points=\"\n",
       "  1944.98,251.724 2088.98,251.724 \n",
       "  \"/>\n",
       "<polygon clip-path=\"url(#clip7101)\" style=\"fill:#000000; fill-opacity:1\" points=\"\n",
       "  2000.98,223.724 2000.98,279.724 2056.98,279.724 2056.98,223.724 2000.98,223.724 \n",
       "  \"/>\n",
       "<polygon clip-path=\"url(#clip7101)\" style=\"fill:#e26f46; fill-opacity:1\" points=\"\n",
       "  2004.98,227.724 2004.98,275.724 2052.98,275.724 2052.98,227.724 2004.98,227.724 \n",
       "  \"/>\n",
       "<g clip-path=\"url(#clip7101)\">\n",
       "<text style=\"fill:#000000; fill-opacity:1; font-family:Arial,Helvetica Neue,Helvetica,sans-serif; font-size:48px; text-anchor:start;\" transform=\"rotate(0, 2112.98, 269.224)\" x=\"2112.98\" y=\"269.224\">final</text>\n",
       "</g>\n",
       "<polyline clip-path=\"url(#clip7101)\" style=\"stroke:#3da44d; stroke-width:12; stroke-opacity:1; fill:none\" points=\"\n",
       "  1944.98,312.204 2088.98,312.204 \n",
       "  \"/>\n",
       "<polygon clip-path=\"url(#clip7101)\" style=\"fill:#000000; fill-opacity:1\" points=\"\n",
       "  2028.98,284.204 2022.4,303.132 2002.35,303.552 2018.34,315.676 2012.52,334.856 2028.98,323.404 2045.45,334.856 2039.62,315.676 2055.61,303.552 2035.56,303.132 \n",
       "  2028.98,284.204 \n",
       "  \"/>\n",
       "<polygon clip-path=\"url(#clip7101)\" style=\"fill:#3da44d; fill-opacity:1\" points=\"\n",
       "  2028.98,288.204 2023.34,304.428 2006.16,304.788 2019.86,315.18 2014.87,331.62 2028.98,321.804 2043.09,331.62 2038.1,315.18 2051.81,304.788 2034.62,304.428 \n",
       "  2028.98,288.204 \n",
       "  \"/>\n",
       "<g clip-path=\"url(#clip7101)\">\n",
       "<text style=\"fill:#000000; fill-opacity:1; font-family:Arial,Helvetica Neue,Helvetica,sans-serif; font-size:48px; text-anchor:start;\" transform=\"rotate(0, 2112.98, 329.704)\" x=\"2112.98\" y=\"329.704\">l2</text>\n",
       "</g>\n",
       "</svg>\n"
      ]
     },
     "execution_count": 8,
     "metadata": {},
     "output_type": "execute_result"
    }
   ],
   "source": [
    "using Plots\n",
    "gr()\n",
    "plot(sim)"
   ]
  },
  {
   "cell_type": "markdown",
   "metadata": {},
   "source": [
    "This is a clear trend indicating that the convergence is truly Order 14, which\n",
    "is the estimated slope."
   ]
  }
 ],
 "metadata": {
  "hide_input": false,
  "kernelspec": {
   "display_name": "Julia 1.1.0",
   "language": "julia",
   "name": "julia-1.1"
  },
  "language_info": {
   "file_extension": ".jl",
   "mimetype": "application/julia",
   "name": "julia",
   "version": "1.1.0"
  }
 },
 "nbformat": 4,
 "nbformat_minor": 2
}
