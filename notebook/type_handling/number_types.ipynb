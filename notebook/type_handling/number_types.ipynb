{
 "cells": [
  {
   "cell_type": "markdown",
   "metadata": {},
   "source": [
    "One of the nice things about DifferentialEquations.jl is that it is designed with Julia's type system in mind. What this means is, if you have properly defined a Number type, you can use this number type in DifferentialEquations.jl's algorithms! [Note that this is restricted to the native algorithms of OrdinaryDiffEq.jl. The other solvers such as ODE.jl, Sundials.jl, and ODEInterface.jl are not compatible with some number systems.]\n",
    "\n",
    "DifferentialEquations.jl determines the numbers to use in its solvers via the types that are designated by `tspan` and the initial condition of the problem. It will keep the time values in the same type as tspan, and the solution values in the same type as the initial condition. [Note that adaptive timestepping requires that the time type is compaible with `sqrt` and `^` functions. Thus dt cannot be Integer or numbers like that if adaptive timestepping is chosen].\n",
    "\n",
    "Let's solve the linear ODE first define an easy way to get ODEProblems for the linear ODE:\n",
    "# Solving Equations in With Julia-Defined Types\n",
    "### Chris Rackauckas"
   ]
  },
  {
   "cell_type": "code",
   "execution_count": 1,
   "metadata": {
    "ExecuteTime": {
     "end_time": "2019-03-15T01:07:11.486000+01:00",
     "start_time": "2019-03-15T00:06:58.977Z"
    }
   },
   "outputs": [],
   "source": [
    "using DifferentialEquations\n",
    "f = (u,p,t) -> (p*u)\n",
    "prob_ode_linear = ODEProblem(f,1/2,(0.0,1.0),1.01);"
   ]
  },
  {
   "cell_type": "markdown",
   "metadata": {},
   "source": [
    "First let's solve it using Float64s. To do so, we just need to set u0 to a Float64 (which is done by the default) and dt should be a float as well."
   ]
  },
  {
   "cell_type": "code",
   "execution_count": 2,
   "metadata": {
    "ExecuteTime": {
     "end_time": "2019-03-15T01:07:21.419000+01:00",
     "start_time": "2019-03-15T00:07:17.634Z"
    }
   },
   "outputs": [
    {
     "name": "stdout",
     "output_type": "stream",
     "text": [
      "retcode: Success\n",
      "Interpolation: specialized 4th order \"free\" interpolation\n",
      "t: [0.0, 0.0996426, 0.345703, 0.677692, 1.0]\n",
      "u: [0.5, 0.552939, 0.708938, 0.99136, 1.3728]\n"
     ]
    }
   ],
   "source": [
    "prob = prob_ode_linear\n",
    "sol =solve(prob,Tsit5())\n",
    "println(sol)"
   ]
  },
  {
   "cell_type": "markdown",
   "metadata": {},
   "source": [
    "Notice that both the times and the solutions were saved as Float64. Let's change the time to use rational values. Rationals are not compatible with adaptive time stepping since they do not have an L2 norm (this can be worked around by defining `internalnorm`, but rationals already explode in size!). To account for this, let's turn off adaptivity as well:"
   ]
  },
  {
   "cell_type": "code",
   "execution_count": 3,
   "metadata": {
    "ExecuteTime": {
     "end_time": "2019-03-15T01:07:25.717000+01:00",
     "start_time": "2019-03-15T00:07:23.320Z"
    }
   },
   "outputs": [
    {
     "name": "stdout",
     "output_type": "stream",
     "text": [
      "retcode: Success\n",
      "Interpolation: 3rd order Hermite\n",
      "t: Rational{Int64}[0//1, 1//64, 1//32, 3//64, 1//16, 5//64, 3//32, 7//64, 1//8, 9//64, 5//32, 11//64, 3//16, 13//64, 7//32, 15//64, 1//4, 17//64, 9//32, 19//64, 5//16, 21//64, 11//32, 23//64, 3//8, 25//64, 13//32, 27//64, 7//16, 29//64, 15//32, 31//64, 1//2, 33//64, 17//32, 35//64, 9//16, 37//64, 19//32, 39//64, 5//8, 41//64, 21//32, 43//64, 11//16, 45//64, 23//32, 47//64, 3//4, 49//64, 25//32, 51//64, 13//16, 53//64, 27//32, 55//64, 7//8, 57//64, 29//32, 59//64, 15//16, 61//64, 31//32, 63//64, 1//1]\n",
      "u: [0.5, 0.507953, 0.516033, 0.524241, 0.53258, 0.541051, 0.549658, 0.558401, 0.567283, 0.576306, 0.585473, 0.594786, 0.604247, 0.613858, 0.623623, 0.633542, 0.64362, 0.653857, 0.664258, 0.674824, 0.685558, 0.696463, 0.707541, 0.718795, 0.730229, 0.741844, 0.753644, 0.765632, 0.777811, 0.790183, 0.802752, 0.815521, 0.828493, 0.841671, 0.855059, 0.86866, 0.882477, 0.896514, 0.910775, 0.925262, 0.93998, 0.954931, 0.970121, 0.985552, 1.00123, 1.01715, 1.03333, 1.04977, 1.06647, 1.08343, 1.10067, 1.11817, 1.13596, 1.15403, 1.17239, 1.19103, 1.20998, 1.22923, 1.24878, 1.26864, 1.28882, 1.30932, 1.33015, 1.35131, 1.3728]\n"
     ]
    }
   ],
   "source": [
    "prob = ODEProblem(f,1/2,(0//1,1//1),101//100);\n",
    "sol = solve(prob,RK4(),dt=1//2^(6),adaptive=false)\n",
    "println(sol)"
   ]
  },
  {
   "cell_type": "markdown",
   "metadata": {},
   "source": [
    "Now let's do something fun. Let's change the solution to use `Rational{BigInt}` and print out the value at the end of the simulation. To do so, simply change the definition of the initial condition."
   ]
  },
  {
   "cell_type": "code",
   "execution_count": 4,
   "metadata": {
    "ExecuteTime": {
     "end_time": "2019-03-15T01:07:31.193000+01:00",
     "start_time": "2019-03-15T00:07:29.230Z"
    }
   },
   "outputs": [
    {
     "name": "stdout",
     "output_type": "stream",
     "text": [
      "4154032919386558883432944248380343483762044089219885824293861963690668280133800624271545564442460641100421478069957127705133139131053171319939289915624722195403241736871340745589519387833493153871994750550507166424767604170338332253959630697516305444248796250106488696552824425774652891031781638156634640665726706553562695794716367646798636566490125595141712720380867485868916531456648814528917577693417533965049279568879801863167212171389128029079788394889712773514836798543384276326561054294342851708282050876790968869065128360584151770000714515194551497614161342119347668187950856166437783338125107242946094385126468080818490755092469614835748767521966870937090173768929887202086899128132689201712566935821453568568851761907310360889009454819233203019261511646422045122043461427963067831419822632761257565485308244276118163333934078610669354885645888806741789229076806586507072844471249752898840782835318816592414922484506856439857852070928805249944302969170900303083044962139908567605824428891872081720287044135359380045755621121//3025955263570019164018502277869853398058543745963126397283707470775892712704232437030043920740033026198847216426264951289188498307633591122471111874163926157374989814610878574225506571713008520940845805558579429855707382314196875257835647882856218717417250856125102284683546912020709544155188247379716859572950811281937944702307676679453365814328593305957854274867553594143460475201489987084725797475032257007739929467758191052369579260681352907875927458926484892315482757871323905647524505025315981027903769053444125491200000000000000000000000000000000000000000000000000000000000000000000000000000000000000000000000000000000000000000000000000000000000000000000000000000000000000000000000000000000000000000000000000000000000000000000000000000000000000000000000000000000000000000000000000000000000000000000000000000000000000000000000000000000000000000000000000000000000000000000000000000000000000000000000000000000000000000000000000000000000000000000000000000000000000000000000000000000000000000000000000000000000000000000000000000000\n"
     ]
    }
   ],
   "source": [
    "prob = ODEProblem(f,BigInt(1)//BigInt(2),(0//1,1//1),101//100);\n",
    "sol =solve(prob,RK4(),dt=1//2^(6),adaptive=false)\n",
    "println(sol[end])"
   ]
  },
  {
   "cell_type": "markdown",
   "metadata": {},
   "source": [
    "That's one huge fraction!\n",
    "\n",
    "## Other Compatible Number Types\n",
    "\n",
    "#### BigFloats"
   ]
  },
  {
   "cell_type": "code",
   "execution_count": 5,
   "metadata": {
    "ExecuteTime": {
     "end_time": "2019-03-15T01:08:08.340000+01:00",
     "start_time": "2019-03-15T00:08:06.053Z"
    }
   },
   "outputs": [
    {
     "name": "stdout",
     "output_type": "stream",
     "text": [
      "1.372800440903808727789283182314115529853336014461421335014509866194661167611229\n"
     ]
    }
   ],
   "source": [
    "prob_ode_biglinear = ODEProblem(f,big(1.0)/big(2.0),(big(0.0),big(1.0)),big(1.01))\n",
    "sol =solve(prob_ode_biglinear,Tsit5())\n",
    "println(sol[end])"
   ]
  },
  {
   "cell_type": "markdown",
   "metadata": {},
   "source": [
    "#### DoubleFloats.jl\n",
    "\n",
    "There's are Float128-like types. Higher precision, but fixed and faster than arbitrary precision."
   ]
  },
  {
   "cell_type": "code",
   "execution_count": 7,
   "metadata": {
    "ExecuteTime": {
     "end_time": "2019-03-15T01:08:44.453000+01:00",
     "start_time": "2019-03-15T00:08:34.764Z"
    }
   },
   "outputs": [
    {
     "name": "stderr",
     "output_type": "stream",
     "text": [
      "┌ Info: Precompiling DoubleFloats [497a8b3b-efae-58df-a0af-a86822472b78]\n",
      "└ @ Base loading.jl:1186\n"
     ]
    },
    {
     "name": "stdout",
     "output_type": "stream",
     "text": [
      "1.3728004409038075\n"
     ]
    }
   ],
   "source": [
    "using DoubleFloats\n",
    "prob_ode_doublelinear = ODEProblem(f,Double64(1)/Double64(2),(Double64(0),Double64(1)),Double64(1.01))\n",
    "sol =solve(prob_ode_doublelinear,Tsit5())\n",
    "println(sol[end])"
   ]
  },
  {
   "cell_type": "markdown",
   "metadata": {},
   "source": [
    "#### ArbFloats\n",
    "\n",
    "These high precision numbers which are much faster than Bigs for less than 500-800 bits of accuracy."
   ]
  },
  {
   "cell_type": "code",
   "execution_count": 9,
   "metadata": {
    "ExecuteTime": {
     "end_time": "2019-03-15T01:09:31.659000+01:00",
     "start_time": "2019-03-15T00:09:25.762Z"
    }
   },
   "outputs": [
    {
     "name": "stderr",
     "output_type": "stream",
     "text": [
      "┌ Info: Precompiling ArbNumerics [7e558dbc-694d-5a72-987c-6f4ebed21442]\n",
      "└ @ Base loading.jl:1186\n"
     ]
    },
    {
     "name": "stdout",
     "output_type": "stream",
     "text": [
      "1.372800440903808727789283182314\n"
     ]
    }
   ],
   "source": [
    "using ArbNumerics\n",
    "prob_ode_arbfloatlinear = ODEProblem(f,ArbFloat(1)/ArbFloat(2),(ArbFloat(0.0),ArbFloat(1.0)),ArbFloat(1.01))\n",
    "sol =solve(prob_ode_arbfloatlinear,Tsit5())\n",
    "println(sol[end])"
   ]
  },
  {
   "cell_type": "markdown",
   "metadata": {},
   "source": [
    "## Incompatible Number Systems\n",
    "\n",
    "#### DecFP.jl\n",
    "\n",
    "Next let's try DecFP. DecFP is a fixed-precision decimals library which is made to give both performance but known decimals of accuracy. Having already installed DecFP with `]add DecFP`, I can run the following:"
   ]
  },
  {
   "cell_type": "code",
   "execution_count": 11,
   "metadata": {
    "ExecuteTime": {
     "end_time": "2019-03-15T01:10:21.985000+01:00",
     "start_time": "2019-03-15T00:10:19.430Z"
    }
   },
   "outputs": [
    {
     "name": "stderr",
     "output_type": "stream",
     "text": [
      "┌ Info: Precompiling DecFP [55939f99-70c6-5e9b-8bb0-5071ed7d61fd]\n",
      "└ @ Base loading.jl:1186\n"
     ]
    },
    {
     "ename": "StackOverflowError",
     "evalue": "StackOverflowError:",
     "output_type": "error",
     "traceback": [
      "StackOverflowError:",
      "",
      "Stacktrace:",
      " [1] Dec128(::BigFloat) at C:\\Users\\haixin\\.julia\\packages\\DecFP\\3jJW7\\src\\DecFP.jl:105",
      " [2] convert(::Type{Dec128}, ::BigFloat) at .\\number.jl:7",
      " ... (the last 2 lines are repeated 28936 more times)",
      " [57875] OrdinaryDiffEq.Tsit5ConstantCache(::Type, ::Type) at C:\\Users\\haixin\\.julia\\packages\\OrdinaryDiffEq\\miOSH\\src\\tableaus\\low_order_rk_tableaus.jl:607",
      " [57876] alg_cache(::Tsit5, ::Dec128, ::Dec128, ::Type, ::Type, ::Type, ::Dec128, ::Dec128, ::ODEFunction{false,getfield(Main, Symbol(\"##3#4\")),LinearAlgebra.UniformScaling{Bool},Nothing,Nothing,Nothing,Nothing,Nothing,Nothing,Nothing,Nothing}, ::Dec128, ::Dec128, ::Dec128, ::Dec128, ::Bool, ::Type{Val{false}}) at C:\\Users\\haixin\\.julia\\packages\\OrdinaryDiffEq\\miOSH\\src\\caches\\low_order_rk_caches.jl:362",
      " [57877] #__init#258(::Array{Dec128,1}, ::Array{Dec128,1}, ::Array{Dec128,1}, ::Nothing, ::Bool, ::Nothing, ::Bool, ::Bool, ::Bool, ::Nothing, ::Bool, ::Bool, ::Dec128, ::Bool, ::Rational{Int64}, ::Nothing, ::Nothing, ::Int64, ::Rational{Int64}, ::Int64, ::Int64, ::Rational{Int64}, ::Bool, ::Int64, ::Nothing, ::Nothing, ::Int64, ::Dec128, ::Dec128, ::typeof(DiffEqBase.ODE_DEFAULT_NORM), ::typeof(LinearAlgebra.opnorm), ::typeof(DiffEqBase.ODE_DEFAULT_ISOUTOFDOMAIN), ::typeof(DiffEqBase.ODE_DEFAULT_UNSTABLE_CHECK), ::Bool, ::Bool, ::Bool, ::Bool, ::Bool, ::Bool, ::Bool, ::Bool, ::Int64, ::String, ::typeof(DiffEqBase.ODE_DEFAULT_PROG_MESSAGE), ::Nothing, ::Bool, ::Bool, ::Bool, ::Base.Iterators.Pairs{Union{},Union{},Tuple{},NamedTuple{(),Tuple{}}}, ::typeof(DiffEqBase.__init), ::ODEProblem{Dec128,Tuple{Dec128,Dec128},false,Dec128,ODEFunction{false,getfield(Main, Symbol(\"##3#4\")),LinearAlgebra.UniformScaling{Bool},Nothing,Nothing,Nothing,Nothing,Nothing,Nothing,Nothing,Nothing},Nothing,DiffEqBase.StandardODEProblem}, ::Tsit5, ::Array{Any,1}, ::Array{Any,1}, ::Array{Any,1}, ::Type{Val{true}}) at C:\\Users\\haixin\\.julia\\packages\\OrdinaryDiffEq\\miOSH\\src\\solve.jl:235",
      " [57878] __init(::ODEProblem{Dec128,Tuple{Dec128,Dec128},false,Dec128,ODEFunction{false,getfield(Main, Symbol(\"##3#4\")),LinearAlgebra.UniformScaling{Bool},Nothing,Nothing,Nothing,Nothing,Nothing,Nothing,Nothing,Nothing},Nothing,DiffEqBase.StandardODEProblem}, ::Tsit5, ::Array{Any,1}, ::Array{Any,1}, ::Array{Any,1}, ::Type{Val{true}}) at C:\\Users\\haixin\\.julia\\packages\\OrdinaryDiffEq\\miOSH\\src\\solve.jl:62",
      " [57879] #__solve#257(::Base.Iterators.Pairs{Union{},Union{},Tuple{},NamedTuple{(),Tuple{}}}, ::Function, ::ODEProblem{Dec128,Tuple{Dec128,Dec128},false,Dec128,ODEFunction{false,getfield(Main, Symbol(\"##3#4\")),LinearAlgebra.UniformScaling{Bool},Nothing,Nothing,Nothing,Nothing,Nothing,Nothing,Nothing,Nothing},Nothing,DiffEqBase.StandardODEProblem}, ::Tsit5, ::Array{Any,1}, ::Array{Any,1}, ::Array{Any,1}, ::Type{Val{true}}) at C:\\Users\\haixin\\.julia\\packages\\OrdinaryDiffEq\\miOSH\\src\\solve.jl:6",
      " [57880] __solve(::ODEProblem{Dec128,Tuple{Dec128,Dec128},false,Dec128,ODEFunction{false,getfield(Main, Symbol(\"##3#4\")),LinearAlgebra.UniformScaling{Bool},Nothing,Nothing,Nothing,Nothing,Nothing,Nothing,Nothing,Nothing},Nothing,DiffEqBase.StandardODEProblem}, ::Tsit5, ::Array{Any,1}, ::Array{Any,1}, ::Array{Any,1}, ::Type{Val{true}}) at C:\\Users\\haixin\\.julia\\packages\\OrdinaryDiffEq\\miOSH\\src\\solve.jl:6 (repeats 5 times)",
      " [57881] #solve#429(::Base.Iterators.Pairs{Union{},Union{},Tuple{},NamedTuple{(),Tuple{}}}, ::Function, ::ODEProblem{Dec128,Tuple{Dec128,Dec128},false,Dec128,ODEFunction{false,getfield(Main, Symbol(\"##3#4\")),LinearAlgebra.UniformScaling{Bool},Nothing,Nothing,Nothing,Nothing,Nothing,Nothing,Nothing,Nothing},Nothing,DiffEqBase.StandardODEProblem}, ::Tsit5) at C:\\Users\\haixin\\.julia\\packages\\DiffEqBase\\ZQVwI\\src\\solve.jl:39",
      " [57882] solve(::ODEProblem{Dec128,Tuple{Dec128,Dec128},false,Dec128,ODEFunction{false,getfield(Main, Symbol(\"##3#4\")),LinearAlgebra.UniformScaling{Bool},Nothing,Nothing,Nothing,Nothing,Nothing,Nothing,Nothing,Nothing},Nothing,DiffEqBase.StandardODEProblem}, ::Tsit5) at C:\\Users\\haixin\\.julia\\packages\\DiffEqBase\\ZQVwI\\src\\solve.jl:27"
     ]
    }
   ],
   "source": [
    "using DecFP\n",
    "prob_ode_decfplinear = ODEProblem(f,Dec128(1)/Dec128(2),(Dec128(0.0),Dec128(1.0)),Dec128(1.01))\n",
    "sol =solve(prob_ode_decfplinear,Tsit5())\n",
    "println(sol[end]); println(typeof(sol[end]))"
   ]
  },
  {
   "cell_type": "markdown",
   "metadata": {},
   "source": [
    "#### Decimals.jl\n",
    "\n",
    "Install with `]add Decimals`."
   ]
  },
  {
   "cell_type": "code",
   "execution_count": 13,
   "metadata": {
    "ExecuteTime": {
     "end_time": "2019-03-15T01:10:48.350000+01:00",
     "start_time": "2019-03-15T00:10:46.986Z"
    }
   },
   "outputs": [
    {
     "name": "stderr",
     "output_type": "stream",
     "text": [
      "┌ Info: Precompiling Decimals [abce61dc-4473-55a0-ba07-351d65e31d42]\n",
      "└ @ Base loading.jl:1186\n"
     ]
    },
    {
     "ename": "MethodError",
     "evalue": "MethodError: Decimal(::Rational{Int64}) is ambiguous. Candidates:\n  (::Type{T})(x::Rational{S}) where {S, T<:AbstractFloat} in Base at rational.jl:92\n  Decimal(num::Real) in Decimals at C:\\Users\\haixin\\.julia\\packages\\Decimals\\Qfcas\\src\\decimal.jl:13\nPossible fix, define\n  Decimal(::Rational{S})",
     "output_type": "error",
     "traceback": [
      "MethodError: Decimal(::Rational{Int64}) is ambiguous. Candidates:\n  (::Type{T})(x::Rational{S}) where {S, T<:AbstractFloat} in Base at rational.jl:92\n  Decimal(num::Real) in Decimals at C:\\Users\\haixin\\.julia\\packages\\Decimals\\Qfcas\\src\\decimal.jl:13\nPossible fix, define\n  Decimal(::Rational{S})",
      "",
      "Stacktrace:",
      " [1] convert(::Type{Decimal}, ::Rational{Int64}) at C:\\Users\\haixin\\.julia\\packages\\Decimals\\Qfcas\\src\\decimal.jl:14",
      " [2] _promote at .\\promotion.jl:261 [inlined]",
      " [3] promote at .\\promotion.jl:284 [inlined]",
      " [4] *(::Decimal, ::Rational{Int64}) at .\\promotion.jl:314",
      " [5] #__init#258(::Array{Rational{Int64},1}, ::Array{Rational{Int64},1}, ::Array{Rational{Int64},1}, ::Nothing, ::Bool, ::Nothing, ::Bool, ::Bool, ::Bool, ::Nothing, ::Bool, ::Bool, ::Float64, ::Bool, ::Rational{Int64}, ::Nothing, ::Nothing, ::Int64, ::Rational{Int64}, ::Int64, ::Int64, ::Rational{Int64}, ::Bool, ::Int64, ::Nothing, ::Nothing, ::Int64, ::Rational{Int64}, ::Rational{Int64}, ::typeof(DiffEqBase.ODE_DEFAULT_NORM), ::typeof(LinearAlgebra.opnorm), ::typeof(DiffEqBase.ODE_DEFAULT_ISOUTOFDOMAIN), ::typeof(DiffEqBase.ODE_DEFAULT_UNSTABLE_CHECK), ::Bool, ::Bool, ::Bool, ::Bool, ::Bool, ::Bool, ::Bool, ::Bool, ::Int64, ::String, ::typeof(DiffEqBase.ODE_DEFAULT_PROG_MESSAGE), ::Nothing, ::Bool, ::Bool, ::Bool, ::Base.Iterators.Pairs{Union{},Union{},Tuple{},NamedTuple{(),Tuple{}}}, ::typeof(DiffEqBase.__init), ::ODEProblem{Array{Decimal,1},Tuple{Rational{Int64},Rational{Int64}},false,Decimal,ODEFunction{false,getfield(Main, Symbol(\"##3#4\")),LinearAlgebra.UniformScaling{Bool},Nothing,Nothing,Nothing,Nothing,Nothing,Nothing,Nothing,Nothing},Nothing,DiffEqBase.StandardODEProblem}, ::RK4, ::Array{Any,1}, ::Array{Any,1}, ::Array{Any,1}, ::Type{Val{true}}) at C:\\Users\\haixin\\.julia\\packages\\OrdinaryDiffEq\\miOSH\\src\\solve.jl:116",
      " [6] (::getfield(DiffEqBase, Symbol(\"#kw##__init\")))(::NamedTuple{(:dt,),Tuple{Float64}}, ::typeof(DiffEqBase.__init), ::ODEProblem{Array{Decimal,1},Tuple{Rational{Int64},Rational{Int64}},false,Decimal,ODEFunction{false,getfield(Main, Symbol(\"##3#4\")),LinearAlgebra.UniformScaling{Bool},Nothing,Nothing,Nothing,Nothing,Nothing,Nothing,Nothing,Nothing},Nothing,DiffEqBase.StandardODEProblem}, ::RK4, ::Array{Any,1}, ::Array{Any,1}, ::Array{Any,1}, ::Type{Val{true}}) at .\\none:0",
      " [7] #__solve#257(::Base.Iterators.Pairs{Symbol,Float64,Tuple{Symbol},NamedTuple{(:dt,),Tuple{Float64}}}, ::Function, ::ODEProblem{Array{Decimal,1},Tuple{Rational{Int64},Rational{Int64}},false,Decimal,ODEFunction{false,getfield(Main, Symbol(\"##3#4\")),LinearAlgebra.UniformScaling{Bool},Nothing,Nothing,Nothing,Nothing,Nothing,Nothing,Nothing,Nothing},Nothing,DiffEqBase.StandardODEProblem}, ::RK4, ::Array{Any,1}, ::Array{Any,1}, ::Array{Any,1}, ::Type{Val{true}}) at C:\\Users\\haixin\\.julia\\packages\\OrdinaryDiffEq\\miOSH\\src\\solve.jl:6",
      " [8] (::getfield(DiffEqBase, Symbol(\"#kw##__solve\")))(::NamedTuple{(:dt,),Tuple{Float64}}, ::typeof(DiffEqBase.__solve), ::ODEProblem{Array{Decimal,1},Tuple{Rational{Int64},Rational{Int64}},false,Decimal,ODEFunction{false,getfield(Main, Symbol(\"##3#4\")),LinearAlgebra.UniformScaling{Bool},Nothing,Nothing,Nothing,Nothing,Nothing,Nothing,Nothing,Nothing},Nothing,DiffEqBase.StandardODEProblem}, ::RK4, ::Array{Any,1}, ::Array{Any,1}, ::Array{Any,1}, ::Type{Val{true}}) at .\\none:0 (repeats 5 times)",
      " [9] #solve#429(::Base.Iterators.Pairs{Symbol,Float64,Tuple{Symbol},NamedTuple{(:dt,),Tuple{Float64}}}, ::Function, ::ODEProblem{Array{Decimal,1},Tuple{Rational{Int64},Rational{Int64}},false,Decimal,ODEFunction{false,getfield(Main, Symbol(\"##3#4\")),LinearAlgebra.UniformScaling{Bool},Nothing,Nothing,Nothing,Nothing,Nothing,Nothing,Nothing,Nothing},Nothing,DiffEqBase.StandardODEProblem}, ::RK4) at C:\\Users\\haixin\\.julia\\packages\\DiffEqBase\\ZQVwI\\src\\solve.jl:39",
      " [10] (::getfield(DiffEqBase, Symbol(\"#kw##solve\")))(::NamedTuple{(:dt,),Tuple{Float64}}, ::typeof(solve), ::ODEProblem{Array{Decimal,1},Tuple{Rational{Int64},Rational{Int64}},false,Decimal,ODEFunction{false,getfield(Main, Symbol(\"##3#4\")),LinearAlgebra.UniformScaling{Bool},Nothing,Nothing,Nothing,Nothing,Nothing,Nothing,Nothing,Nothing},Nothing,DiffEqBase.StandardODEProblem}, ::RK4) at .\\none:0",
      " [11] top-level scope at In[13]:3"
     ]
    }
   ],
   "source": [
    "using Decimals\n",
    "prob_ode_decimallinear = ODEProblem(f,[decimal(\"1.0\")]./[decimal(\"2.0\")],(0//1,1//1),decimal(1.01))\n",
    "sol =solve(prob_ode_decimallinear,RK4(),dt=1/2^(6)) #Fails\n",
    "println(sol[end]); println(typeof(sol[end]))"
   ]
  },
  {
   "cell_type": "markdown",
   "metadata": {},
   "source": [
    "At the time of writing this, Decimals are not compatible. This is not on DifferentialEquations.jl's end, it's on partly on Decimal's end since it is not a subtype of Number. Thus it's not recommended you use Decimals with DifferentialEquations.jl\n",
    "\n",
    "## Conclusion\n",
    "\n",
    "As you can see, DifferentialEquations.jl can use arbitrary Julia-defined number systems in its arithmetic. If you need 128-bit floats, i.e. a bit more precision but not arbitrary, DoubleFloats.jl is a very good choice! For arbitrary precision, ArbNumerics are the most feature-complete and give great performance compared to BigFloats, and thus I recommend their use when high-precision (less than 512-800 bits) is required. DecFP is a great library for high-performance decimal numbers and works well as well. Other number systems could use some modernization."
   ]
  }
 ],
 "metadata": {
  "hide_input": false,
  "kernelspec": {
   "display_name": "Julia 1.1.0",
   "language": "julia",
   "name": "julia-1.1"
  },
  "language_info": {
   "file_extension": ".jl",
   "mimetype": "application/julia",
   "name": "julia",
   "version": "1.1.0"
  }
 },
 "nbformat": 4,
 "nbformat_minor": 2
}
